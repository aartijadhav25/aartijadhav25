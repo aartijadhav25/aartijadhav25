{
 "cells": [
  {
   "cell_type": "code",
   "execution_count": null,
   "metadata": {},
   "outputs": [],
   "source": [
    " # Import necessary modules\n",
    "import fitz  # PyMuPDF for fast PDF parsing\n",
    "from langchain_community.vectorstores import FAISS\n",
    "from langchain_community.embeddings import OllamaEmbeddings\n",
    "from langchain_text_splitters import RecursiveCharacterTextSplitter\n",
    "from langchain_core.documents import Document\n",
    "from langchain.retrievers import ContextualCompressionRetriever\n",
    "from langchain.retrievers.document_compressors import FlashrankRerank\n",
    "from langchain_community.document_compressors.flashrank_rerank import FlashrankRerank\n",
    "from langchain_community.llms import Ollama\n",
    "from langchain.prompts.prompt import PromptTemplate\n",
    "from langchain_core.output_parsers import StrOutputParser\n",
    "from langchain_core.runnables import RunnablePassthrough"
   ]
  },
  {
   "cell_type": "code",
   "execution_count": null,
   "metadata": {},
   "outputs": [
    {
     "name": "stderr",
     "output_type": "stream",
     "text": [
      "C:\\Users\\jagdi\\AppData\\Local\\Temp\\ipykernel_35500\\877909204.py:2: LangChainDeprecationWarning: The class `OllamaEmbeddings` was deprecated in LangChain 0.3.1 and will be removed in 1.0.0. An updated version of the class exists in the :class:`~langchain-ollama package and should be used instead. To use it run `pip install -U :class:`~langchain-ollama` and import as `from :class:`~langchain_ollama import OllamaEmbeddings``.\n",
      "  embeddings = OllamaEmbeddings(model=\"nomic-embed-text\")\n"
     ]
    }
   ],
   "source": [
    "\n",
    "# Set up embedding model\n",
    "embeddings = OllamaEmbeddings(model=\"nomic-embed-text\")\n",
    "\n",
    "# Load and process PDF using PyMuPDF\n",
    "pdf_path = \"meditations.pdf\"  # Ensure this file exists\n",
    "\n",
    "def load_pdf(fpath, max_pages=10):\n",
    "    doc = fitz.open(fpath)\n",
    "    text = \"\\n\\n\".join(doc[i].get_text(\"text\") for i in range(min(max_pages, len(doc))) if doc[i].get_text(\"text\").strip())\n",
    "    return text\n",
    "\n",
    "\n",
    "# Extract text from PDF\n",
    "raw_text = load_pdf(pdf_path)\n",
    "\n",
    "# Use RecursiveCharacterTextSplitter to split the text into chunks\n",
    "text_splitter = RecursiveCharacterTextSplitter(chunk_size=500, chunk_overlap=100)\n",
    "chunks = text_splitter.split_text(raw_text)\n",
    "\n",
    "# Convert to LangChain Document format\n",
    "documents = [Document(page_content=chunk) for chunk in chunks]"
   ]
  },
  {
   "cell_type": "code",
   "execution_count": null,
   "metadata": {},
   "outputs": [
    {
     "data": {
      "text/plain": [
       "[\"Marcus Aurelius' Meditations - tr. Casaubon v. 8.16, uploaded to www.philaletheians.co.uk, 14 July 2013 \\nPage 1 of 128 \\nThe meditations of \\nMarcus Aurelius Antoninus \\nOriginally translated by Meric Casaubon \\n \\nAbout this edition \\nMarcus Aurelius Antoninus Augustus was Emperor of Rome from 161 to his death, \\nthe last of the “Five Good Emperors.” He was nephew, son-in-law, and adoptive son \\nof Antonius Pius. Marcus Aurelius was one of the most important Stoic philosophers,\",\n",
       " 'of Antonius Pius. Marcus Aurelius was one of the most important Stoic philosophers, \\ncited by H.P. Blavatsky amongst famous classic sages and writers such as Plato, Eu-\\nripides, Socrates, Aristophanes, Pindar, Plutarch, Isocrates, Diodorus, Cicero, and \\nEpictetus.\\n1 \\nThis edition was originally translated out of the Greek by Meric Casaubon in 1634 as \\n“The Golden Book of Marcus Aurelius,” with an Introduction by W.H.D. Rouse. It was',\n",
       " '“The Golden Book of Marcus Aurelius,” with an Introduction by W.H.D. Rouse. It was \\nsubsequently edited by Ernest Rhys. London: J.M. Dent & Co; New York: E.P. Dutton \\n& Co, 1906; Everyman’s Library. \\n                                            \\n1 Cf. Blavatsky Collected Writings, (THE ORIGIN OF THE MYSTERIES) XIV p. 257',\n",
       " \"LIVING THE LIFE SERIES \\nMEDITATIONS OF MARCUS AURELIUS \\nMarcus Aurelius' Meditations - tr. Casaubon v. 8.16, uploaded to www.philaletheians.co.uk, 14 July 2013 \\nPage 2 of 128 \\n \\n \\n \\n \\nChief English translations of Marcus Aurelius \\nMeric Casaubon, 1634; \\nJeremy Collier, 1701; \\nJames Thomson, 1747; \\nR. Graves, 1792; \\nH. McCormac, 1844; \\nGeorge Long, 1862; \\nG.H. Rendall, 1898; and \\nJ. Jackson, 1906. \\nRenan’s “Marc-Aurèle” — in his “History of the Origins of Christianity,” which ap-\",\n",
       " 'Renan’s “Marc-Aurèle” — in his “History of the Origins of Christianity,” which ap-\\npeared in 1882 — is the most vital and original book to be had relating to the time of \\nMarcus Aurelius. Pater’s “Marius the Epicurean” forms another outside commentary, \\nwhich is of service in the imaginative attempt to create again the period.\\n2 \\n \\nContents \\nIntroduction \\n3 \\nTHE FIRST BOOK \\n12 \\nTHE SECOND BOOK \\n19 \\nTHE THIRD BOOK \\n23 \\nTHE FOURTH BOOK \\n29 \\nTHE FIFTH BOOK \\n38 \\nTHE SIXTH BOOK \\n47',\n",
       " '19 \\nTHE THIRD BOOK \\n23 \\nTHE FOURTH BOOK \\n29 \\nTHE FIFTH BOOK \\n38 \\nTHE SIXTH BOOK \\n47 \\nTHE SEVENTH BOOK \\n57 \\nTHE EIGHTH BOOK \\n67 \\nTHE NINTH BOOK \\n77 \\nTHE TENTH BOOK \\n86 \\nTHE ELEVENTH BOOK \\n96 \\nTHE TWELFTH BOOK \\n104 \\nAppendix \\n110 \\nNotes \\n122 \\nGlossary \\n123 \\nA parting thought \\n128 \\n \\n                                            \\n2 [Brought forward from p. xxiii.]',\n",
       " \"MEDITATIONS OF MARCUS AURELIUS \\nINTRODUCTION \\nMarcus Aurelius' Meditations - tr. Casaubon v. 8.16, uploaded to www.philaletheians.co.uk, 14 July 2013 \\nPage 3 of 128 \\nIntroduction \\nARCUS AURELIUS ANTONINUS was born on April 26, A.D. 121. His real \\nname was M. Annius Verus, and he was sprung of a noble family which \\nclaimed descent from Numa, second King of Rome. Thus the most reli-\\ngious of emperors came of the blood of the most pious of early kings. His father, An-\",\n",
       " 'gious of emperors came of the blood of the most pious of early kings. His father, An-\\nnius Verus, had held high office in Rome, and his grandfather, of the same name, \\nhad been thrice Consul. Both his parents died young, but Marcus held them in lov-\\ning remembrance. On his father’s death Marcus was adopted by his grandfather, the \\nconsular Annius Verus, and there was deep love between these two. On the very first',\n",
       " 'consular Annius Verus, and there was deep love between these two. On the very first \\npage of his book Marcus gratefully declares how of his grandfather he had learned to \\nbe gentle and meek, and to refrain from all anger and passion. The Emperor Hadrian \\ndivined the fine character of the lad, whom he used to call not Verus but Verissimus, \\nmore Truthful than his own name. He advanced Marcus to equestrian rank when six',\n",
       " 'more Truthful than his own name. He advanced Marcus to equestrian rank when six \\nyears of age, and at the age of eight made him a member of the ancient Salian \\npriesthood. The boy’s aunt, Annia Galeria Faustina, was married to Antoninus Pius, \\nafterwards emperor. Hence it came about that Antoninus, having no son, adopted \\nMarcus, changing his name to that which he is known by, and betrothed him to his \\ndaughter Faustina. His education was conducted with all care. The ablest teachers',\n",
       " 'daughter Faustina. His education was conducted with all care. The ablest teachers \\nwere engaged for him, and he was trained in the strict doctrine of the Stoic philoso-\\nphy, which was his great delight. He was taught to dress plainly and to live simply, to \\navoid all softness and luxury. His body was trained to hardihood by wrestling, hunt-\\ning, and outdoor games; and though his constitution was weak, he showed great',\n",
       " 'ing, and outdoor games; and though his constitution was weak, he showed great \\npersonal courage to encounter the fiercest boars. At the same time he was kept from \\nthe extravagancies of his day. The great excitement in Rome was the strife of the Fac-\\ntions, as they were called, in the circus. The racing drivers used to adopt one of four \\ncolours — red, blue, white, or green — and their partisans showed an eagerness in',\n",
       " 'colours — red, blue, white, or green — and their partisans showed an eagerness in \\nsupporting them which nothing could surpass. Riot and corruption went in the train \\nof the racing chariots; and from all these things Marcus held severely aloof. \\nIn 140 Marcus was raised to the consulship, and in 145 his betrothal was consum-\\nmated by marriage. Two years later Faustina brought him a daughter; and soon after \\nthe tribunate and other imperial honours were conferred upon him.',\n",
       " 'the tribunate and other imperial honours were conferred upon him. \\nAntoninus Pius died in 161, and Marcus assumed the imperial state. He at once as-\\nsociated with himself L. Ceionius Commodus, whom Antoninus had adopted as a \\nyounger son at the same time with Marcus, giving him the name of Lucius Aurelius \\nVerus. Henceforth the two are colleagues in the empire, the junior being trained as it \\nwere to succeed. No sooner was Marcus settled upon the throne than wars broke out',\n",
       " 'were to succeed. No sooner was Marcus settled upon the throne than wars broke out \\non all sides. In the east, Vologeses III. of Parthia began a long-meditated revolt by de-\\nstroying a whole Roman Legion and invading Syria (162). Verus was sent off in hot \\nhaste to quell this rising; and he fulfilled his trust by plunging into drunkenness and \\ndebauchery, while the war was left to his officers. Soon after Marcus had to face a',\n",
       " 'debauchery, while the war was left to his officers. Soon after Marcus had to face a \\nmore serious danger at home in the coalition of several powerful tribes on the north-\\nern frontier. Chief among those were the Marcomanni or Marchmen, the Quadi (men-\\ntioned in this book), the Sarmatians, the Catti, the Jazyges. In Rome itself there was \\nM',\n",
       " \"MEDITATIONS OF MARCUS AURELIUS \\nINTRODUCTION \\nMarcus Aurelius' Meditations - tr. Casaubon v. 8.16, uploaded to www.philaletheians.co.uk, 14 July 2013 \\nPage 4 of 128 \\npestilence and starvation, the one brought from the east by Verus’s legions, the other \\ncaused by floods which had destroyed vast quantities of grain. After all had been \\ndone possible to allay famine and to supply pressing needs — Marcus being forced\",\n",
       " 'done possible to allay famine and to supply pressing needs — Marcus being forced \\neven to sell the imperial jewels to find money — both emperors set forth to a struggle \\nwhich was to continue more or less during the rest of Marcus’s reign. During these \\nwars, in 169, Verus died. We have no means of following the campaigns in detail; but \\nthus much is certain, that in the end the Romans succeeded in crushing the barbar-',\n",
       " 'thus much is certain, that in the end the Romans succeeded in crushing the barbar-\\nian tribes, and effecting a settlement which made the empire more secure. Marcus \\nwas himself commander-in-chief, and victory was due no less to his own ability than \\nto his wisdom in choice of lieutenants, shown conspicuously in the case of Pertinax. \\nThere were several important battles fought in these campaigns; and one of them has',\n",
       " 'There were several important battles fought in these campaigns; and one of them has \\nbecome celebrated for the legend of the Thundering Legion. In a battle against the \\nQuadi in 174, the day seemed to he going in favour of the foe, when on a sudden \\narose a great storm of thunder and rain the lightning struck the barbarians with ter-\\nror, and they turned to rout. In later days this storm was said to have been sent in',\n",
       " 'ror, and they turned to rout. In later days this storm was said to have been sent in \\nanswer to the prayers of a legion which contained many Christians, and the name \\nThundering Legion should he given to it on this account. The title of Thundering Le-\\ngion is known at an earlier date, so this part of the story at least cannot be true; but \\nthe aid of the storm is acknowledged by one of the scenes carved on Antonine’s Col-\\numn at Rome, which commemorates these wars.',\n",
       " 'umn at Rome, which commemorates these wars. \\nThe settlement made after these troubles might have been more satisfactory but for \\nan unexpected rising in the east. Avidius Cassius, an able captain who had won re-\\nnown in the Parthian wars, was at this time chief governor of the eastern provinces. \\nBy whatever means induced, he had conceived the project of proclaiming himself \\nemperor as soon as Marcus, who was then in feeble health, should die; and a report',\n",
       " 'emperor as soon as Marcus, who was then in feeble health, should die; and a report \\nhaving been conveyed to him that Marcus was dead, Cassius did as he had planned. \\nMarcus, on hearing the news, immediately patched up a peace and returned home to \\nmeet this new peril. The emperors great grief was that he must needs engage in the \\nhorrors of civil strife. He praised the qualities of Cassius, and expressed a heartfelt',\n",
       " 'horrors of civil strife. He praised the qualities of Cassius, and expressed a heartfelt \\nwish that Cassius might not be driven to do himself a hurt before he should have the \\nopportunity to grant a free pardon. But before he could come to the east news had \\ncome to Cassius that the emperor still lived; his followers fell away from him, and he \\nwas assassinated. Marcus now went to the east, and while there the murderers',\n",
       " 'was assassinated. Marcus now went to the east, and while there the murderers \\nbrought the head of Cassius to him; but the emperor indignantly refused their gift, \\nnor would he admit the men to his presence. \\nOn this journey his wife, Faustina, died. At his return the emperor celebrated a tri-\\numph (176). Immediately afterwards he repaired to Germany, and took up once more \\nthe burden of war. His operations were followed by complete success; but the trou-',\n",
       " 'the burden of war. His operations were followed by complete success; but the trou-\\nbles of late years had been too much for his constitution, at no time robust, and on \\nMarch 17, 180, he died in Pannonia. \\nThe good emperor was not spared domestic troubles. Faustina had borne him several \\nchildren, of whom he was passionately fond. Their innocent faces may still be seen in \\nmany a sculpture gallery, recalling with odd effect the dreamy countenance of their',\n",
       " 'many a sculpture gallery, recalling with odd effect the dreamy countenance of their \\nfather. But they died one by one, and when Marcus came to his own end only one of \\nhis sons still lived — the weak and worthless Commodus. On his father’s death',\n",
       " \"MEDITATIONS OF MARCUS AURELIUS \\nINTRODUCTION \\nMarcus Aurelius' Meditations - tr. Casaubon v. 8.16, uploaded to www.philaletheians.co.uk, 14 July 2013 \\nPage 5 of 128 \\nCommodus, who succeeded him, undid the work of many campaigns by a hasty and \\nunwise peace; and his reign of twelve years proved him to be a ferocious and blood-\\nthirsty tyrant. Scandal has made free with the name of Faustina herself, who is ac-\",\n",
       " 'thirsty tyrant. Scandal has made free with the name of Faustina herself, who is ac-\\ncused not only of unfaithfulness, but of intriguing with Cassius and egging him on to \\nhis fatal rebellion, it must be admitted that these charges rest on no sure evidence; \\nand the emperor, at all events, loved her dearly, nor ever felt the slightest qualm of \\nsuspicion. \\nAs a soldier we have seen that Marcus was both capable and successful; as an ad-',\n",
       " 'suspicion. \\nAs a soldier we have seen that Marcus was both capable and successful; as an ad-\\nministrator he was prudent and conscientious. Although steeped in the teachings of \\nphilosophy, he did not attempt to remodel the world on any preconceived plan. He \\ntrod the path beaten by his predecessors, seeking only to do his duty as well as he \\ncould, and to keep out corruption. He did some unwise things, it is true. To create a',\n",
       " 'could, and to keep out corruption. He did some unwise things, it is true. To create a \\ncompeer in empire, as he did with Verus, was a dangerous innovation which could \\nonly succeed if one of the two effaced himself; and under Diocletian this very prece-\\ndent caused the Roman Empire to split into halves. He erred in his civil administra-\\ntion by too much centralising. But the strong point of his reign was the administra-',\n",
       " 'tion by too much centralising. But the strong point of his reign was the administra-\\ntion of justice. Marcus sought by-laws to protect the weak, to make the lot of the \\nslaves less hard, to stand in place of father to the fatherless. Charitable foundations \\nwere endowed for rearing and educating poor children. The provinces were protected \\nagainst oppression, and public help was given to cities or districts which might be',\n",
       " 'against oppression, and public help was given to cities or districts which might be \\nvisited by calamity. The great blot on his name, and one hard indeed to explain, is \\nhis treatment of the Christians. In his reign Justin at Rome became a martyr to his \\nfaith, and Polycarp at Smyrna, and we know of many outbreaks of fanaticism in the \\nprovinces which caused the death of the faithful. It is no excuse to plead that he',\n",
       " 'provinces which caused the death of the faithful. It is no excuse to plead that he \\nknew nothing about the atrocities done in his name: it was his duty to know, and if \\nhe did not he would have been the first to confess that he had failed in his duty. But \\nfrom his own tone in speaking of the Christians it is clear he knew them only from \\ncalumny; and we hear of no measures taken even to secure that they should have a \\nfair hearing. In this respect Trajan was better than he.',\n",
       " 'fair hearing. In this respect Trajan was better than he. \\nTo a thoughtful mind such a religion as that of Rome would give small satisfaction. \\nIts legends were often childish or impossible; its teaching had little to do with morali-\\nty. The Roman religion was in fact of the nature of a bargain: men paid certain sacri-\\nfices and rites, and the gods granted their favour, irrespective of right or wrong. In \\nthis case all devout souls were thrown back upon philosophy, as they had been,',\n",
       " 'this case all devout souls were thrown back upon philosophy, as they had been, \\nthough to a less extent, in Greece. There were under the early empire two rival \\nschools which practically divided the field between them, Stoicism and Epicurean-\\nism. The ideal set before each was nominally much the same. The Stoics aspired to \\nthe repression of all emotion, and the Epicureans to freedom from all disturbance; \\nyet in the upshot the one has become a synonym of stubborn endurance, the other',\n",
       " 'yet in the upshot the one has become a synonym of stubborn endurance, the other \\nfor unbridled licence. With Epicureanism we have nothing to do now; but it will be \\nworth while to sketch the history and tenets of the Stoic sect. Zeno, the founder of \\nStoicism, was born in Cyprus at some date unknown, but his life may be said rough-\\nly to be between the years 350 and 250 B.C. Cyprus has been from time immemorial \\na meeting-place of the East and West, and although we cannot grant any importance',\n",
       " 'a meeting-place of the East and West, and although we cannot grant any importance \\nto a possible strain of Phoenician blood in him (for the Phoenicians were no philoso-\\nphers), yet it is quite likely that through Asia Minor he may have come in touch with',\n",
       " \"MEDITATIONS OF MARCUS AURELIUS \\nINTRODUCTION \\nMarcus Aurelius' Meditations - tr. Casaubon v. 8.16, uploaded to www.philaletheians.co.uk, 14 July 2013 \\nPage 6 of 128 \\nthe Far East. He studied under the cynic Crates, but he did not neglect other philo-\\nsophical systems. After many years’ study he opened his own school in a colonnade \\nin Athens called the Painted Porch, or Stoa, which gave the Stoics their name. Next\",\n",
       " 'in Athens called the Painted Porch, or Stoa, which gave the Stoics their name. Next \\nto Zeno, the School of the Porch owes most to Chrysippus (280–207 B.C.), who organ-\\nised Stoicism into a system. Of him it was said, \\n“But for Chrysippus, there had been no Porch.” \\nThe Stoics regarded speculation as a means to an end and that end was, as Zeno put \\nit, to live consistently (ομολογουμένως ζήν) or as it was later explained, to live in con-',\n",
       " 'it, to live consistently (ομολογουμένως ζήν) or as it was later explained, to live in con-\\nformity with nature (ομολογουμένως τη φύσει ζήν). This conforming of the life to na-\\nture was the Stoic idea of Virtue. This dictum might easily be taken to mean that vir-\\ntue consists in yielding to each natural impulse; but that was very far from the Stoic \\nmeaning. In order to live in accord with nature, it is necessary to know what nature',\n",
       " 'meaning. In order to live in accord with nature, it is necessary to know what nature \\nis; and to this end a threefold division of philosophy is made — into Physics, dealing \\nwith the universe and its laws, the problems of divine government and teleology; Log-\\nic, which trains the mind to discern true from false; and Ethics, which applies the \\nknowledge thus gained and tested to practical life. \\nThe Stoic system of physics was materialism with an infusion of pantheism. In con-',\n",
       " 'The Stoic system of physics was materialism with an infusion of pantheism. In con-\\ntradiction to Plato’s view that the Ideas, or Prototypes, of phenomena alone really ex-\\nist, the Stoics held that material objects alone existed; but immanent in the material \\nuniverse was a spiritual force which acted through them, manifesting itself under \\nmany forms, as fire, aether, spirit, soul, reason, the ruling principle. \\nThe universe, then, is God, of whom the popular gods are manifestations; while leg-',\n",
       " 'The universe, then, is God, of whom the popular gods are manifestations; while leg-\\nends and myths are allegorical. The soul of man is thus an emanation from the god-\\nhead, into whom it will eventually be re-absorbed. The divine ruling principle makes \\nall things work together for good, but for the good of the whole. The highest good of \\nman is consciously to work with God for the common good, and this is the sense in',\n",
       " 'man is consciously to work with God for the common good, and this is the sense in \\nwhich the Stoic tried to live in accord with nature. In the individual it is virtue alone \\nwhich enables him to do this; as Providence rules the universe, so virtue in the soul \\nmust rule man. \\nIn Logic, the Stoic system is noteworthy for their theory as to the test of truth, the \\nCriterion. They compared the new-born soul to a sheet of paper ready for writing. Up-',\n",
       " 'Criterion. They compared the new-born soul to a sheet of paper ready for writing. Up-\\non this the senses write their impressions (φαντασίαι), and by experience of a num-\\nber of these the soul unconsciously conceives general notions (κοιναί έννοιαι) or an-\\nticipations (προλήψεις). When the impression was such as to be irresistible it was \\ncalled καταληπτική φαντασία, one that holds fast, or as they explained it, one proceed-',\n",
       " 'called καταληπτική φαντασία, one that holds fast, or as they explained it, one proceed-\\ning from truth. Ideas and inferences artificially produced by deduction or the like \\nwere tested by this “holding perception.” \\nOf the Ethical application I have already spoken. The highest good was the virtuous \\nlife. Virtue alone is happiness, and vice is unhappiness. Carrying this theory to its \\nextreme, the Stoic said that there could be no gradations between virtue and vice,',\n",
       " 'extreme, the Stoic said that there could be no gradations between virtue and vice, \\nthough of course each has its special manifestations. Moreover, nothing is good but \\nvirtue, and nothing but vice is bad. Those outside things which are commonly called \\ngood or bad, such as health and sickness, wealth and poverty, pleasure and pain, \\nare to him indifferent (αδιάφορα). All these things are merely the sphere in which vir-',\n",
       " \"MEDITATIONS OF MARCUS AURELIUS \\nINTRODUCTION \\nMarcus Aurelius' Meditations - tr. Casaubon v. 8.16, uploaded to www.philaletheians.co.uk, 14 July 2013 \\nPage 7 of 128 \\ntue may act. The ideal Wise Man is sufficient unto himself in all things (αυταρκής); \\nand knowing these truths, he will be happy even when stretched upon the rack. It is \\nprobable that no Stoic claimed for himself that he was this Wise Man, but that each\",\n",
       " 'probable that no Stoic claimed for himself that he was this Wise Man, but that each \\nstrove after it as an ideal much as the Christian strives after a likeness to Christ. The \\nexaggeration in this statement was, however, so obvious, that the later Stoics were \\ndriven to make a further subdivision of things indifferent into what is preferable \\n(προηγμένα) and what is undesirable (αποπροηγμένα). They also held that for him',\n",
       " '(προηγμένα) and what is undesirable (αποπροηγμένα). They also held that for him \\nwho had not attained to the perfect wisdom, certain actions were proper (καθήκοντα). \\nThese were neither virtuous nor vicious, but, like the indifferent things, held a mid-\\ndle place. \\nTwo points in the Stoic system deserve special mention. One is a careful distinction \\nbetween things which are in our power and things which are not. Desire and dislike,',\n",
       " 'between things which are in our power and things which are not. Desire and dislike, \\nopinion and affection, are within the power of the will; whereas health, wealth, hon-\\nour, and other such are generally not so. The Stoic was called upon to control his \\ndesires and affections, and to guide his opinion; to bring his whole being under the \\nsway of the will or leading principle, just as the universe is guided and governed by',\n",
       " 'sway of the will or leading principle, just as the universe is guided and governed by \\ndivine Providence. This is a special application of the favourite Greek virtue of mod-\\neration (σωφροσύνη), and has also its parallel in Christian ethics. The second point is \\na strong insistence on the unity of the universe, and on man’s duty as part of a great \\nwhole. Public spirit was the most splendid political virtue of the ancient world, and it',\n",
       " 'whole. Public spirit was the most splendid political virtue of the ancient world, and it \\nis here made cosmopolitan. It is again instructive to note that Christian sages insist-\\ned on the same thing. Christians are taught that they are members of a worldwide \\nbrotherhood, where is neither Greek nor Hebrew, bond nor free and that they live \\ntheir lives as fellow-workers with God. \\nSuch is the system which underlies the Meditations of Marcus Aurelius. Some',\n",
       " 'Such is the system which underlies the Meditations of Marcus Aurelius. Some \\nknowledge of it is necessary to the right understanding of the book, but for us the \\nchief interest lies elsewhere. We do not come to Marcus Aurelius for a treatise on \\nStoicism. He is no head of a school to lay down a body of doctrine for students; he \\ndoes not even contemplate that others should read what he writes. His philosophy is',\n",
       " 'does not even contemplate that others should read what he writes. His philosophy is \\nnot an eager intellectual inquiry, but more what we should call religious feeling. The \\nuncompromising stiffness of Zeno or Chrysippus is softened and transformed by \\npassing through a nature reverent and tolerant, gentle and free from guile; the grim \\nresignation which made life possible to the Stoic sage becomes in him almost a mood',\n",
       " 'resignation which made life possible to the Stoic sage becomes in him almost a mood \\nof aspiration. His book records the innermost thoughts of his heart, set down to ease \\nit, with such moral maxims and reflections as may help him to bear the burden of \\nduty and the countless annoyances of a busy life. \\nIt is instructive to compare the Meditations with another famous book, the Imitation \\nof Christ. There is the same ideal of self-control in both. It should be a man’s task,',\n",
       " 'of Christ. There is the same ideal of self-control in both. It should be a man’s task, \\nsays the Imitation, “to overcome himself, and every day to be stronger than himself.” \\n“In withstanding of the passions standeth very peace of heart.” “Let us set the axe to \\nthe root, that we being purged of our passions may have a peaceable mind.” To this \\nend there must be continual self-examination. “If thou may not continually gather',\n",
       " 'end there must be continual self-examination. “If thou may not continually gather \\nthyself together, namely sometimes do it, at least once a day, the morning or the \\nevening. In the morning purpose, in the evening discuss the manner, what thou hast \\nbeen this day, in word, work, and thought.” But while the Roman’s temper is a mod-',\n",
       " \"MEDITATIONS OF MARCUS AURELIUS \\nINTRODUCTION \\nMarcus Aurelius' Meditations - tr. Casaubon v. 8.16, uploaded to www.philaletheians.co.uk, 14 July 2013 \\nPage 8 of 128 \\nest self-reliance, the Christian aims at a more passive mood, humbleness and meek-\\nness, and reliance on the presence and personal friendship of God. The Roman scru-\\ntinises his faults with severity, but without the self-contempt which makes the Chris-\",\n",
       " 'tinises his faults with severity, but without the self-contempt which makes the Chris-\\ntian “vile in his own sight.” The Christian, like the Roman, bids “study to withdraw \\nthine heart from the love of things visible”; but it is not the busy life of duty he has in \\nmind so much as the contempt of all worldly things, and the “cutting away of all low-\\ner delectations.” Both rate men’s praise or blame at their real worthlessness; “Let not',\n",
       " 'er delectations.” Both rate men’s praise or blame at their real worthlessness; “Let not \\nthy peace,” says the Christian, “be in the mouths of men.” But it is to God’s censure \\nthe Christian appeals, the Roman to his own soul. The petty annoyances of injustice \\nor unkindness are looked on by each with the same magnanimity. “Why doth a little \\nthing said or done against thee make thee sorry? It is no new thing; it is not the first,',\n",
       " 'thing said or done against thee make thee sorry? It is no new thing; it is not the first, \\nnor shall it be the last, if thou live long. At best suffer patiently, if thou canst not suf-\\nfer joyously.” The Christian should sorrow more for other men’s malice than for our \\nown wrongs; but the Roman is inclined to wash his hands of the offender. “Study to \\nbe patient in suffering and bearing other men’s defaults and all manner infirmities,”',\n",
       " 'be patient in suffering and bearing other men’s defaults and all manner infirmities,” \\nsays the Christian; but the Roman would never have thought to add, “If all men were \\nperfect, what had we then to suffer of other men for God?” The virtue of suffering in \\nitself is an idea which does not meet us in the Meditations. Both alike realise that \\nman is one of a great community. “No man is sufficient to himself,” says the Chris-',\n",
       " 'man is one of a great community. “No man is sufficient to himself,” says the Chris-\\ntian; “we must bear together, help together, comfort together.” But while he sees a \\nchief importance in zeal, in exalted emotion that is, and avoidance of lukewarmness, \\nthe Roman thought mainly of the duty to be done as well as might be, and less of the \\nfeeling which should go with the doing of it. To the saint as to the emperor, the world',\n",
       " 'feeling which should go with the doing of it. To the saint as to the emperor, the world \\nis a poor thing at best. “Verily it is a misery to live upon the earth,” says the Chris-\\ntian; few and evil are the days of man’s life, which passeth away suddenly as a shad-\\now. \\nBut there is one great difference between the two books we are considering. The Imi-\\ntation is addressed to others, the Meditations by the writer to himself. We learn noth-',\n",
       " 'tation is addressed to others, the Meditations by the writer to himself. We learn noth-\\ning from the Imitation of the author’s own life, except in so far as he may be assumed \\nto have practised his own preachings; the Meditations reflect mood by mood the mind \\nof him who wrote them. In their intimacy and frankness lies their great charm. These \\nnotes are not sermons; they are not even confessions. There is always an air of self-',\n",
       " 'notes are not sermons; they are not even confessions. There is always an air of self-\\nconsciousness in confessions; in such revelations there is always a danger of unctu-\\nousness or of vulgarity for the best of men. St. Augustine is not always clear of of-\\nfence, and John Bunyan himself exaggerates venial peccadilloes into heinous sins. \\nBut Marcus Aurelius is neither vulgar nor unctuous; he extenuates nothing, but',\n",
       " 'But Marcus Aurelius is neither vulgar nor unctuous; he extenuates nothing, but \\nnothing sets down in malice. He never poses before an audience; he may not be pro-\\nfound, he is always sincere. And it is a lofty and serene soul which is here disclosed \\nbefore us. Vulgar vices seem to have no temptation for him; this is not one tied and \\nbound with chains which he strives to break. The faults he detects in himself are of-',\n",
       " 'bound with chains which he strives to break. The faults he detects in himself are of-\\nten such as most men would have no eyes to see. To serve the divine spirit which is \\nimplanted within him, a man must “keep himself pure from all violent passion and \\nevil affection, from all rashness and vanity, and from all manner of discontent, either \\nin regard of the gods or men”: or, as he says elsewhere, “unspotted by pleasure, un-',\n",
       " 'in regard of the gods or men”: or, as he says elsewhere, “unspotted by pleasure, un-\\ndaunted by pain.” Unwavering courtesy and consideration are his aims. “Whatsoever \\nany man either doth or saith, thou must be good”; “doth any man offend? It is',\n",
       " \"MEDITATIONS OF MARCUS AURELIUS \\nINTRODUCTION \\nMarcus Aurelius' Meditations - tr. Casaubon v. 8.16, uploaded to www.philaletheians.co.uk, 14 July 2013 \\nPage 9 of 128 \\nagainst himself that he doth offend: why should it trouble thee?” The offender needs \\npity, not wrath; those who must needs be corrected, should be treated with tact and \\ngentleness; and one must be always ready to learn better. “The best kind of revenge\",\n",
       " 'gentleness; and one must be always ready to learn better. “The best kind of revenge \\nis, not to become like unto them.” There are so many hints of offence forgiven, that \\nwe may believe the notes followed sharp on the facts. Perhaps he has fallen short of \\nhis aim, and thus seeks to call his principles to mind, and to strengthen himself for \\nthe future. That these sayings are not mere talk is plain from the story of Avidius',\n",
       " 'the future. That these sayings are not mere talk is plain from the story of Avidius \\nCassius, who would have usurped his imperial throne. Thus the emperor faithfully \\ncarries out his own principle, that evil must be overcome with good. For each fault in \\nothers, Nature (says he) has given us a counteracting virtue; “as, for example, \\nagainst the unthankful, it hath given goodness and meekness, as an antidote.” \\nOne so gentle towards a foe was sure to be a good friend; and indeed his pages are',\n",
       " 'One so gentle towards a foe was sure to be a good friend; and indeed his pages are \\nfull of generous gratitude to those who had served him. In his First Book he sets \\ndown to account all the debts due to his kinsfolk and teachers. To his grandfather he \\nowed his own gentle spirit, to his father shamefastness and courage; he learnt of his \\nmother to be religious and bountiful and single-minded. Rusticus did not work in',\n",
       " 'mother to be religious and bountiful and single-minded. Rusticus did not work in \\nvain, if he showed his pupil that his life needed amending. Apollonius taught him \\nsimplicity, reasonableness, gratitude, a love of true liberty. So the list runs on; every \\none he had dealings with seems to have given him something good, a sure proof of \\nthe goodness of his nature, which thought no evil. \\nIf his was that honest and true heart which is the Christian ideal, this is the more',\n",
       " 'If his was that honest and true heart which is the Christian ideal, this is the more \\nwonderful in that he lacked the faith which makes Christians strong. He could say, it \\nis true, “either there is a God, and then all is well; or if all things go by chance and \\nfortune, yet mayest thou use thine own providence in those things that concern thee \\nproperly; and then art thou well.” Or again, “We must needs grant that there is a na-',\n",
       " 'properly; and then art thou well.” Or again, “We must needs grant that there is a na-\\nture that doth govern the universe.” But his own part in the scheme of things is so \\nsmall, that he does not hope for any personal happiness beyond what a serene soul \\nmay win in this mortal life. “O my soul, the time I trust will be, when thou shalt be \\ngood, simple, more open and visible, than that body by which it is enclosed”; but this',\n",
       " 'good, simple, more open and visible, than that body by which it is enclosed”; but this \\nis said of the calm contentment with human lot which he hopes to attain, not of a \\ntime when the trammels of the body shall be cast off. For the rest, the world and its \\nfame and wealth, “all is vanity.” The gods may perhaps have a particular care for \\nhim, but their especial care is for the universe at large: thus much should suffice.',\n",
       " 'him, but their especial care is for the universe at large: thus much should suffice. \\nHis gods are better than the Stoic gods, who sit aloof from all human things, untrou-\\nbled and uncaring, but his personal hope is hardly stronger. On this point he says \\nlittle, though there are many allusions to death as the natural end; doubtless he ex-\\npected his soul one day to be absorbed into the universal soul, since nothing comes',\n",
       " 'pected his soul one day to be absorbed into the universal soul, since nothing comes \\nout of nothing, and nothing can be annihilated. His mood is one of strenuous weari-\\nness; he does his duty as a good soldier, waiting for the sound of the trumpet which \\nshall sound the retreat; he has not that cheerful confidence which led Socrates \\nthrough a life no less noble, to a death which was to bring him into the company of \\ngods he had worshipped and men whom he had revered.',\n",
       " 'gods he had worshipped and men whom he had revered. \\nBut although Marcus Aurelius may have held intellectually that his soul was des-\\ntined to be absorbed, and to lose consciousness of itself, there were times when he \\nfelt, as all who hold it must sometimes feel, how unsatisfying is such a creed. Then',\n",
       " \"MEDITATIONS OF MARCUS AURELIUS \\nINTRODUCTION \\nMarcus Aurelius' Meditations - tr. Casaubon v. 8.16, uploaded to www.philaletheians.co.uk, 14 July 2013 \\nPage 10 of 128 \\nhe gropes blindly after something less empty and vain. “Thou hast taken ship,” he \\nsays, “thou hast sailed, thou art come to land, go out, if to another life, there also \\nshalt thou find gods, who are everywhere.” There is more in this than the assumption\",\n",
       " 'shalt thou find gods, who are everywhere.” There is more in this than the assumption \\nof a rival theory for argument’s sake. If worldly things “be but as a dream, the \\nthought is not far off that there may be an awakening to what is real. When he \\nspeaks of death as a necessary change, and points out that nothing useful and prof-\\nitable can be brought about without change, did he perhaps think of the change in a \\ncorn of wheat, which is not quickened except it die? Nature’s marvellous power of',\n",
       " 'corn of wheat, which is not quickened except it die? Nature’s marvellous power of \\nrecreating out of Corruption is surely not confined to bodily things. Many of his \\nthoughts sound like far-off echoes of St. Paul; and it is strange indeed that this most \\nChristian of emperors has nothing good to say of the Christians. To him they are only \\nsectaries “violently and passionately set upon opposition.” \\nProfound as philosophy these Meditations certainly are not; but Marcus Aurelius was',\n",
       " 'Profound as philosophy these Meditations certainly are not; but Marcus Aurelius was \\ntoo sincere not to see the essence of such things as came within his experience. An-\\ncient religions were for the most part concerned with outward things. Do the neces-\\nsary rites, and you propitiate the gods; and these rites were often trivial, sometimes \\nviolated right feeling or even morality. Even when the gods stood on the side of right-',\n",
       " 'violated right feeling or even morality. Even when the gods stood on the side of right-\\neousness, they were concerned with the act more than with the intent. But Marcus \\nAurelius knows that what the heart is full of, the man will do. “Such as thy thoughts \\nand ordinary cogitations are,” he says, “such will thy mind be in time.” And every \\npage of the book shows us that he knew thought was sure to issue in act. He drills',\n",
       " 'page of the book shows us that he knew thought was sure to issue in act. He drills \\nhis soul, as it were, in right principles, that when the time comes, it may be guided \\nby them. To wait until the emergency is to be too late. \\nHe sees also the true essence of happiness. “If happiness did consist in pleasure, \\nhow came notorious robbers, impure abominable livers, parricides, and tyrants, in so \\nlarge a measure to have their part of pleasures?” He who had all the world’s pleas-',\n",
       " 'large a measure to have their part of pleasures?” He who had all the world’s pleas-\\nures at command can write thus “A happy lot and portion is, good inclinations of the \\nsoul, good desires, good actions.” \\nBy the irony of fate this man, so gentle and good, so desirous of quiet joys and a \\nmind free from care, was set at the head of the Roman Empire when great dangers \\nthreatened from east and west. For several years he himself commanded his armies',\n",
       " 'threatened from east and west. For several years he himself commanded his armies \\nin chief. In camp before the Quadi he dates the first book of his Meditations, and \\nshows how he could retire within himself amid the coarse clangour of arms. The \\npomps and glories which he despised were all his; what to most men is an ambition \\nor a dream, to him was a round of weary tasks which nothing but the stern sense of \\nduty could carry him through. And he did his work well. His wars were slow and te-',\n",
       " 'duty could carry him through. And he did his work well. His wars were slow and te-\\ndious, but successful. With a statesman’s wisdom he foresaw the danger to Rome of \\nthe barbarian hordes from the north, and took measures to meet it. As it was, his \\nsettlement gave two centuries of respite to the Roman Empire; had he fulfilled the \\nplan of pushing the imperial frontiers to the Elbe, which seems to have been in his \\nmind, much more might have been accomplished. But death cut short his designs.',\n",
       " 'mind, much more might have been accomplished. But death cut short his designs. \\nTruly a rare opportunity was given to Marcus Aurelius of showing what the mind can \\ndo in despite of circumstances. Most peaceful of warriors, a magnificent monarch \\nwhose ideal was quiet happiness in home life, bent to obscurity yet born to great-\\nness, the loving father of children who died young or turned out hateful, his life was']"
      ]
     },
     "execution_count": 5,
     "metadata": {},
     "output_type": "execute_result"
    }
   ],
   "source": [
    "chunks"
   ]
  },
  {
   "cell_type": "code",
   "execution_count": null,
   "metadata": {},
   "outputs": [
    {
     "data": {
      "text/plain": [
       "92"
      ]
     },
     "execution_count": 3,
     "metadata": {},
     "output_type": "execute_result"
    }
   ],
   "source": [
    "len(chunks)"
   ]
  },
  {
   "cell_type": "code",
   "execution_count": null,
   "metadata": {},
   "outputs": [],
   "source": [
    "# Save or Load FAISS\n",
    "faiss_path = \"faiss_index\"\n",
    "\n",
    "try:\n",
    "    vectorstore = FAISS.load_local(faiss_path, embeddings, allow_dangerous_deserialization=True)\n",
    "    print(\"Loaded existing FAISS index.\")\n",
    "except Exception:\n",
    "    print(\"Creating new FAISS index...\")\n",
    "    vectorstore = FAISS.from_documents(documents, embeddings)\n",
    "    vectorstore.save_local(faiss_path)\n",
    "    print(\"FAISS index created and saved.\")\n"
   ]
  },
  {
   "cell_type": "code",
   "execution_count": null,
   "metadata": {},
   "outputs": [
    {
     "name": "stdout",
     "output_type": "stream",
     "text": [
      "Loaded existing FAISS index.\n"
     ]
    }
   ],
   "source": [
    "faiss_path = \"faiss_index\"\n",
    "\n",
    "vectorstore = FAISS.load_local(faiss_path, embeddings, allow_dangerous_deserialization=True)\n",
    "print(\"Loaded existing FAISS index.\")"
   ]
  },
  {
   "cell_type": "code",
   "execution_count": null,
   "metadata": {},
   "outputs": [],
   "source": [
    "\n",
    "# Set up retriever\n",
    "retriever_vectordb = vectorstore.as_retriever(search_type=\"similarity\", search_kwargs={\"k\": 4})\n",
    "compressor = FlashrankRerank()\n",
    "compression_retriever = ContextualCompressionRetriever(base_compressor=compressor, base_retriever=retriever_vectordb)\n"
   ]
  },
  {
   "cell_type": "code",
   "execution_count": null,
   "metadata": {},
   "outputs": [],
   "source": [
    "\n",
    "# Load LLM\n",
    "llm = Ollama(model=\"gemma:2b\")"
   ]
  },
  {
   "cell_type": "code",
   "execution_count": null,
   "metadata": {},
   "outputs": [],
   "source": [
    "# Define Prompt\n",
    "prompt_template = \"\"\"\n",
    "Use the given context to answer the user's question. If the context is missing, try to answer based on general knowledge.\n",
    "Question: {question}\n",
    "Context: {context}\n",
    "\"\"\"\n",
    "prompt = PromptTemplate(input_variables=[\"question\", \"context\"], template=prompt_template)\n"
   ]
  },
  {
   "cell_type": "code",
   "execution_count": null,
   "metadata": {},
   "outputs": [],
   "source": [
    "# Format retrieved docs\n",
    "def format_docs(docs):\n",
    "    print('Fetching relevant document chunks...')\n",
    "    return \"\\n\\n\".join(doc.page_content for doc in docs)\n"
   ]
  },
  {
   "cell_type": "code",
   "execution_count": null,
   "metadata": {},
   "outputs": [],
   "source": [
    "# RAG Pipeline\n",
    "rag_chain = (\n",
    "    {\"context\": compression_retriever | format_docs, \"question\": RunnablePassthrough()}\n",
    "    | prompt\n",
    "    | llm\n",
    "    | StrOutputParser()\n",
    ")"
   ]
  },
  {
   "cell_type": "code",
   "execution_count": null,
   "metadata": {},
   "outputs": [
    {
     "data": {
      "text/plain": [
       "{\n",
       "  context: ContextualCompressionRetriever(base_compressor=FlashrankRerank(client=<flashrank.Ranker.Ranker object at 0x0000027A399D9180>, top_n=3, score_threshold=0.0, model='ms-marco-MultiBERT-L-12', prefix_metadata=''), base_retriever=VectorStoreRetriever(tags=['FAISS', 'OllamaEmbeddings'], vectorstore=<langchain_community.vectorstores.faiss.FAISS object at 0x0000027A39AA1990>, search_kwargs={'k': 4}))\n",
       "           | RunnableLambda(format_docs),\n",
       "  question: RunnablePassthrough()\n",
       "}\n",
       "| PromptTemplate(input_variables=['context', 'question'], input_types={}, partial_variables={}, template=\"\\nUse the given context to answer the user's question. If the context is missing, try to answer based on general knowledge.\\nQuestion: {question}\\nContext: {context}\\n\")\n",
       "| Ollama(model='gemma:2b')\n",
       "| StrOutputParser()"
      ]
     },
     "execution_count": 22,
     "metadata": {},
     "output_type": "execute_result"
    }
   ],
   "source": [
    "rag_chain"
   ]
  },
  {
   "cell_type": "code",
   "execution_count": null,
   "metadata": {},
   "outputs": [
    {
     "name": "stdout",
     "output_type": "stream",
     "text": [
      "Fetching relevant document chunks...\n",
      "Sure, here's a definition of meditation from the context:\n",
      "\n",
      "Meditation is a practice of focusing the mind on a single thought or object to help reduce stress, improve focus, and achieve a state of inner peace.\n"
     ]
    }
   ],
   "source": [
    "# Ask a sample question\n",
    "question = \"What is meditation?\"\n",
    "answer = rag_chain.invoke(question)\n",
    "print(answer)"
   ]
  },
  {
   "cell_type": "code",
   "execution_count": null,
   "metadata": {},
   "outputs": [
    {
     "name": "stdout",
     "output_type": "stream",
     "text": [
      "Fetching relevant document chunks...\n",
      "Sure, here's the answer to the question:\n",
      "\n",
      "Meditation is a practice that involves focusing on one's thoughts and feelings to bring about a state of inner peace and clarity. It is a way of self-reflection and helps individuals to gain a deeper understanding of themselves and their surroundings.\n"
     ]
    }
   ],
   "source": [
    "# Ask a sample question\n",
    "question = \"What is meditation?\"\n",
    "answer = rag_chain.invoke(question)\n",
    "print(answer)"
   ]
  },
  {
   "cell_type": "code",
   "execution_count": null,
   "metadata": {},
   "outputs": [
    {
     "name": "stdout",
     "output_type": "stream",
     "text": [
      "Fetching relevant document chunks...\n",
      "According to the context, Marcus Aurelius Antoninus was born on April 26, A.D. 121.\n"
     ]
    }
   ],
   "source": [
    "question = \"When was AURELIUS ANTONINUS born?(give me month only)\"\n",
    "answer = rag_chain.invoke(question)\n",
    "print(answer)"
   ]
  },
  {
   "cell_type": "code",
   "execution_count": null,
   "metadata": {},
   "outputs": [
    {
     "name": "stdout",
     "output_type": "stream",
     "text": [
      "Fetching relevant document chunks...\n",
      "The context says that Marcus Aurelius studied under the cynic Crates. So, his philosophy was Stoicism.\n"
     ]
    }
   ],
   "source": [
    "question = \"What philosophy was Marcus Aurelius trained in?\"\n",
    "answer = rag_chain.invoke(question)\n",
    "print(answer)"
   ]
  },
  {
   "cell_type": "code",
   "execution_count": null,
   "metadata": {},
   "outputs": [
    {
     "name": "stdout",
     "output_type": "stream",
     "text": [
      "Fetching relevant document chunks...\n",
      "The context indicates that Marcus Aurelius showed personal courage by bending to obscurity despite his ideal of quiet happiness in home life.\n"
     ]
    }
   ],
   "source": [
    "question = \"How did Marcus Aurelius show personal courage?\"\n",
    "answer = rag_chain.invoke(question)\n",
    "print(answer)"
   ]
  },
  {
   "cell_type": "code",
   "execution_count": null,
   "metadata": {},
   "outputs": [
    {
     "name": "stdout",
     "output_type": "stream",
     "text": [
      "Fetching relevant document chunks...\n",
      "Sure, here is the main idea of the section:\n",
      "\n",
      "The context discusses the different views on morality and the ideal way to live according to the Stoic philosophy. It highlights the importance of distinguishing between things that are in our power and those that are not, as well as the unity of the universe and man's duty to live in accord with nature.\n"
     ]
    }
   ],
   "source": [
    "question = \"What is the main idea of this section?\"\n",
    "answer = rag_chain.invoke(question)\n",
    "print(answer)"
   ]
  },
  {
   "cell_type": "markdown",
   "metadata": {},
   "source": [
    "# Model Evaluation Using cosine_similarity"
   ]
  },
  {
   "cell_type": "code",
   "execution_count": null,
   "metadata": {},
   "outputs": [
    {
     "name": "stderr",
     "output_type": "stream",
     "text": [
      "c:\\Users\\jagdi\\RAG\\env\\lib\\site-packages\\tqdm\\auto.py:21: TqdmWarning: IProgress not found. Please update jupyter and ipywidgets. See https://ipywidgets.readthedocs.io/en/stable/user_install.html\n",
      "  from .autonotebook import tqdm as notebook_tqdm\n",
      "INFO:sentence_transformers.SentenceTransformer:Use pytorch device_name: cpu\n",
      "INFO:sentence_transformers.SentenceTransformer:Load pretrained SentenceTransformer: all-MiniLM-L6-v2\n"
     ]
    }
   ],
   "source": [
    "from sklearn.metrics.pairwise import cosine_similarity\n",
    "from sentence_transformers import SentenceTransformer\n",
    "\n",
    "# Initialize model for similarity checking\n",
    "embedding_model = SentenceTransformer('all-MiniLM-L6-v2')\n"
   ]
  },
  {
   "cell_type": "code",
   "execution_count": null,
   "metadata": {},
   "outputs": [],
   "source": [
    "# Define test cases\n",
    "test_cases = {\n",
    "    \"What philosophy was Marcus Aurelius trained in?\": \"Stoicism\",\n",
    "    \"Who was Marcus Aurelius?\": \"Roman Emperor and Stoic philosopher\",\n",
    "    \"What book did Marcus Aurelius write?\": \"Meditations\",\n",
    "    \"What is the main idea of Stoicism?\" :  \"Stoicism teaches self-control, virtue, and accepting fate with reason\",\n",
    "    \"What is the significance of the Pax Romana?\": \"TThe Pax Romana was a 200-year period of peace and stability in the Roman Empire\",\n",
    "    \"Who was Socrates, and why is he important?\" :\t\"Socrates was a Greek philosopher who developed the Socratic method and influenced Western thought\",\n",
    "    \"What is the difference between rationalism and empiricism?\" : \"Rationalism believes knowledge comes from reason, while empiricism argues it comes from experience\",\n",
    "    \"What was the cause of the fall of the Roman Empire?\" : \"The fall of Rome was caused by economic decline, military weakness, political corruption, and invasions\",\n",
    "    \"How did Aristotle influence Western philosophy?\" : \"Aristotle's work in logic, ethics, and science shaped philosophy, influencing medieval and modern thought\",\n",
    "    \"What is Plato's theory of forms?\t\" : \"Plato's theory of forms states that non-material abstract forms (ideals) represent the highest reality\"\n",
    "}\n"
   ]
  },
  {
   "cell_type": "code",
   "execution_count": null,
   "metadata": {},
   "outputs": [
    {
     "name": "stdout",
     "output_type": "stream",
     "text": [
      "Fetching relevant document chunks...\n"
     ]
    },
    {
     "name": "stderr",
     "output_type": "stream",
     "text": [
      "Batches: 100%|██████████| 1/1 [00:00<00:00, 80.35it/s]\n",
      "Batches: 100%|██████████| 1/1 [00:00<00:00, 46.71it/s]\n"
     ]
    },
    {
     "name": "stdout",
     "output_type": "stream",
     "text": [
      "Question: What philosophy was Marcus Aurelius trained in?\n",
      "Expected Answer: Stoicism\n",
      "Model Answer: The context says that Marcus Aurelius studied under the cynic Crates, but he did not neglect other philosophical systems. He also studied under other Stoic philosophers.\n",
      "Similarity Score: 0.4615\n",
      "--------------------------------------------------\n",
      "Fetching relevant document chunks...\n"
     ]
    },
    {
     "name": "stderr",
     "output_type": "stream",
     "text": [
      "Batches: 100%|██████████| 1/1 [00:00<00:00, 86.51it/s]\n",
      "Batches: 100%|██████████| 1/1 [00:00<00:00, 45.36it/s]\n"
     ]
    },
    {
     "name": "stdout",
     "output_type": "stream",
     "text": [
      "Question: Who was Marcus Aurelius?\n",
      "Expected Answer: Roman Emperor and Stoic philosopher\n",
      "Model Answer: According to the context, Marcus Aurelius was a one of the most important Stoic philosophers. He was cited by many famous classic writers, including Plato, Eu-ripides, Socrates, Aristophanes, Pindar, Plutarch, Isocrates, Diodorus, Cicero, and Epictetus.\n",
      "Similarity Score: 0.6869\n",
      "--------------------------------------------------\n",
      "Fetching relevant document chunks...\n"
     ]
    },
    {
     "name": "stderr",
     "output_type": "stream",
     "text": [
      "Batches: 100%|██████████| 1/1 [00:00<00:00, 79.88it/s]\n",
      "Batches: 100%|██████████| 1/1 [00:00<00:00, 42.45it/s]\n"
     ]
    },
    {
     "name": "stdout",
     "output_type": "stream",
     "text": [
      "Question: What book did Marcus Aurelius write?\n",
      "Expected Answer: Meditations\n",
      "Model Answer: The context says that Marcus Aurelius wrote the book “The Golden Book of Marcus Aurelius,” with an Introduction by W.H.D. Rouse.\n",
      "Similarity Score: 0.1104\n",
      "--------------------------------------------------\n",
      "Fetching relevant document chunks...\n"
     ]
    },
    {
     "name": "stderr",
     "output_type": "stream",
     "text": [
      "Batches: 100%|██████████| 1/1 [00:00<00:00, 66.32it/s]\n",
      "Batches: 100%|██████████| 1/1 [00:00<00:00, 33.55it/s]\n"
     ]
    },
    {
     "name": "stdout",
     "output_type": "stream",
     "text": [
      "Question: What is the main idea of Stoicism?\n",
      "Expected Answer: Stoicism teaches self-control, virtue, and accepting fate with reason\n",
      "Model Answer: Sure. Here's the main idea of Stoicism:\n",
      "\n",
      "The main idea of Stoicism is that virtue alone enables a person to live in accord with nature. The Stoics believed that virtue should be defined as virtue in the soul, not in the external world. They also believed that the test of truth is the pursuit of virtue, and that they should strive to live in accordance with what is natural.\n",
      "Similarity Score: 0.7218\n",
      "--------------------------------------------------\n",
      "Fetching relevant document chunks...\n"
     ]
    },
    {
     "name": "stderr",
     "output_type": "stream",
     "text": [
      "Batches: 100%|██████████| 1/1 [00:00<00:00, 64.28it/s]\n",
      "Batches: 100%|██████████| 1/1 [00:00<00:00, 42.53it/s]\n"
     ]
    },
    {
     "name": "stdout",
     "output_type": "stream",
     "text": [
      "Question: What is the significance of the Pax Romana?\n",
      "Expected Answer: TThe Pax Romana was a 200-year period of peace and stability in the Roman Empire\n",
      "Model Answer: The context does not specify the significance of the Pax Romana, so I cannot answer this question from the provided context.\n",
      "Similarity Score: 0.7159\n",
      "--------------------------------------------------\n",
      "Fetching relevant document chunks...\n"
     ]
    },
    {
     "name": "stderr",
     "output_type": "stream",
     "text": [
      "Batches: 100%|██████████| 1/1 [00:00<00:00, 36.24it/s]\n",
      "Batches: 100%|██████████| 1/1 [00:00<00:00, 19.40it/s]\n"
     ]
    },
    {
     "name": "stdout",
     "output_type": "stream",
     "text": [
      "Question: Who was Socrates, and why is he important?\n",
      "Expected Answer: Socrates was a Greek philosopher who developed the Socratic method and influenced Western thought\n",
      "Model Answer: According to the context, Socrates was one of the most important philosophers. He was cited by many other famous philosophers, including Plato, Aristotle, and Epictetus.\n",
      "Similarity Score: 0.6243\n",
      "--------------------------------------------------\n",
      "Fetching relevant document chunks...\n"
     ]
    },
    {
     "name": "stderr",
     "output_type": "stream",
     "text": [
      "Batches: 100%|██████████| 1/1 [00:00<00:00, 44.28it/s]\n",
      "Batches: 100%|██████████| 1/1 [00:00<00:00, 19.23it/s]\n"
     ]
    },
    {
     "name": "stdout",
     "output_type": "stream",
     "text": [
      "Question: What is the difference between rationalism and empiricism?\n",
      "Expected Answer: Rationalism believes knowledge comes from reason, while empiricism argues it comes from experience\n",
      "Model Answer: Sure, here's the answer to the question:\n",
      "\n",
      "Rationalism and empiricism are two different philosophical schools of thought that deal with the nature of truth and reason.\n",
      "\n",
      "**Rationalism** is a school of thought that emphasizes the role of reason and logic in acquiring knowledge. Rationalists believe that reason is the only reliable way to determine truth, and that all knowledge can be reduced to logical propositions.\n",
      "\n",
      "**Empiricism** is a school of thought that emphasizes the role of observation and experience in acquiring knowledge. Empiricists believe that all knowledge can be acquired through sense experience, and that reason is not necessary for acquiring knowledge.\n",
      "\n",
      "The context does not provide any information about the difference between rationalism and empiricism, so I cannot answer this question from the context.\n",
      "Similarity Score: 0.7894\n",
      "--------------------------------------------------\n",
      "Fetching relevant document chunks...\n"
     ]
    },
    {
     "name": "stderr",
     "output_type": "stream",
     "text": [
      "Batches: 100%|██████████| 1/1 [00:00<00:00, 39.03it/s]\n",
      "Batches: 100%|██████████| 1/1 [00:00<00:00,  8.95it/s]\n"
     ]
    },
    {
     "name": "stdout",
     "output_type": "stream",
     "text": [
      "Question: What was the cause of the fall of the Roman Empire?\n",
      "Expected Answer: The fall of Rome was caused by economic decline, military weakness, political corruption, and invasions\n",
      "Model Answer: The passage does not specify the cause of the fall of the Roman Empire, so I cannot answer this question from the provided context.\n",
      "Similarity Score: 0.7451\n",
      "--------------------------------------------------\n",
      "Fetching relevant document chunks...\n"
     ]
    },
    {
     "name": "stderr",
     "output_type": "stream",
     "text": [
      "Batches: 100%|██████████| 1/1 [00:00<00:00, 37.39it/s]\n",
      "Batches: 100%|██████████| 1/1 [00:00<00:00, 14.65it/s]\n"
     ]
    },
    {
     "name": "stdout",
     "output_type": "stream",
     "text": [
      "Question: How did Aristotle influence Western philosophy?\n",
      "Expected Answer: Aristotle's work in logic, ethics, and science shaped philosophy, influencing medieval and modern thought\n",
      "Model Answer: According to the context, Aristotle's philosophy was not an eager intellectual inquiry, but rather more what we should call religious feeling. His philosophy softened and transformed by passing through a nature reverent and tolerant, gentle and free from guile.\n",
      "Similarity Score: 0.6033\n",
      "--------------------------------------------------\n",
      "Fetching relevant document chunks...\n"
     ]
    },
    {
     "name": "stderr",
     "output_type": "stream",
     "text": [
      "Batches: 100%|██████████| 1/1 [00:00<00:00, 87.39it/s]\n",
      "Batches: 100%|██████████| 1/1 [00:00<00:00, 38.40it/s]"
     ]
    },
    {
     "name": "stdout",
     "output_type": "stream",
     "text": [
      "Question: What is Plato's theory of forms?\t\n",
      "Expected Answer: Plato's theory of forms states that non-material abstract forms (ideals) represent the highest reality\n",
      "Model Answer: According to the context, Plato's theory of forms was that the universe is God of many forms. He believed that the universe was governed by a spiritual force that acted through different forms, such as fire, aether, spirit, soul, reason, and the ruling principle.\n",
      "Similarity Score: 0.6083\n",
      "--------------------------------------------------\n"
     ]
    },
    {
     "name": "stderr",
     "output_type": "stream",
     "text": [
      "\n"
     ]
    }
   ],
   "source": [
    "# Evaluate the model\n",
    "for question, expected_answer in test_cases.items():\n",
    "    model_answer = rag_chain.invoke(question)\n",
    "    \n",
    "    # Compute embeddings for similarity comparison\n",
    "    expected_embedding = embedding_model.encode([expected_answer])\n",
    "    model_embedding = embedding_model.encode([model_answer])\n",
    "    \n",
    "    similarity_score = cosine_similarity(expected_embedding, model_embedding)[0][0]\n",
    "    \n",
    "    print(f\"Question: {question}\")\n",
    "    print(f\"Expected Answer: {expected_answer}\")\n",
    "    print(f\"Model Answer: {model_answer}\")\n",
    "    print(f\"Similarity Score: {similarity_score:.4f}\")\n",
    "    print(\"-\" * 50)"
   ]
  },
  {
   "cell_type": "code",
   "execution_count": null,
   "metadata": {},
   "outputs": [],
   "source": []
  }
 ],
 "metadata": {
  "kernelspec": {
   "display_name": "env",
   "language": "python",
   "name": "python3"
  },
  "language_info": {
   "codemirror_mode": {
    "name": "ipython",
    "version": 3
   },
   "file_extension": ".py",
   "mimetype": "text/x-python",
   "name": "python",
   "nbconvert_exporter": "python",
   "pygments_lexer": "ipython3",
   "version": "3.10.11"
  }
 },
 "nbformat": 4,
 "nbformat_minor": 2
}
